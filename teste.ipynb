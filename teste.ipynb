{
 "cells": [
  {
   "cell_type": "code",
   "execution_count": 1,
   "metadata": {},
   "outputs": [],
   "source": [
    "import requests\n",
    "from bs4 import BeautifulSoup\n",
    "import time"
   ]
  },
  {
   "cell_type": "code",
   "execution_count": 19,
   "metadata": {},
   "outputs": [],
   "source": [
    "url = 'https://www.youtube.com/@GrandeFiasco/videos'\n",
    "element = '//*[@id=\"video-title-link\"]'"
   ]
  },
  {
   "cell_type": "code",
   "execution_count": 9,
   "metadata": {},
   "outputs": [],
   "source": [
    "headers = {\n",
    "    'User-Agent': 'Mozilla/5.0 (Windows NT 10.0; Win64; x64) AppleWebKit/537.36 (KHTML, like Gecko) Chrome/58.0.3029.110 Safari/537.36',\n",
    "}"
   ]
  },
  {
   "cell_type": "code",
   "execution_count": 10,
   "metadata": {},
   "outputs": [],
   "source": [
    "response = requests.get(url, headers=headers)"
   ]
  },
  {
   "cell_type": "code",
   "execution_count": 11,
   "metadata": {},
   "outputs": [
    {
     "name": "stdout",
     "output_type": "stream",
     "text": [
      "<Response [200]>\n"
     ]
    }
   ],
   "source": [
    "print(response)"
   ]
  },
  {
   "cell_type": "code",
   "execution_count": 12,
   "metadata": {},
   "outputs": [],
   "source": [
    "soup = BeautifulSoup(response.content, 'html.parser')"
   ]
  },
  {
   "cell_type": "code",
   "execution_count": null,
   "metadata": {},
   "outputs": [],
   "source": [
    "print(soup)"
   ]
  },
  {
   "cell_type": "code",
   "execution_count": 8,
   "metadata": {},
   "outputs": [],
   "source": [
    "clas = 'Ov(h) Ws(nw) As(b) Ell'"
   ]
  },
  {
   "cell_type": "code",
   "execution_count": 13,
   "metadata": {},
   "outputs": [],
   "source": [
    "text = soup.find('span', {'class': 'As(b)'})"
   ]
  },
  {
   "cell_type": "code",
   "execution_count": 14,
   "metadata": {},
   "outputs": [
    {
     "name": "stdout",
     "output_type": "stream",
     "text": [
      "None\n"
     ]
    }
   ],
   "source": [
    "print(text)"
   ]
  },
  {
   "cell_type": "markdown",
   "metadata": {},
   "source": [
    "---"
   ]
  },
  {
   "cell_type": "code",
   "execution_count": 20,
   "metadata": {},
   "outputs": [
    {
     "name": "stdout",
     "output_type": "stream",
     "text": [
      "Elemento não encontrado.\n"
     ]
    }
   ],
   "source": [
    "response = requests.get(url)\n",
    "\n",
    "if response.status_code == 200:\n",
    "    soup = BeautifulSoup(response.text, 'html.parser')\n",
    "    \n",
    "  \n",
    "    elemento_alvo = soup.find(element)\n",
    "    \n",
    "    if elemento_alvo:\n",
    "      \n",
    "        informacao_extraida = elemento_alvo.text.strip()\n",
    "        print(informacao_extraida)\n",
    "    else:\n",
    "        print(\"Elemento não encontrado.\")\n",
    "else:\n",
    "    print(\"Falha ao acessar a página:\", response.status_code)\n"
   ]
  },
  {
   "cell_type": "code",
   "execution_count": 22,
   "metadata": {},
   "outputs": [],
   "source": [
    "xpath = '//*[@id=\"video-title-link\"]'"
   ]
  },
  {
   "cell_type": "code",
   "execution_count": 23,
   "metadata": {},
   "outputs": [
    {
     "name": "stdout",
     "output_type": "stream",
     "text": [
      "Elemento não encontrado.\n"
     ]
    }
   ],
   "source": [
    "import requests\n",
    "from lxml import html\n",
    "\n",
    "response = requests.get(url)\n",
    "\n",
    "if response.status_code == 200:\n",
    "\n",
    "    tree = html.fromstring(response.text)\n",
    "\n",
    "    elemento_alvo = tree.xpath(xpath)\n",
    "    \n",
    "\n",
    "    if elemento_alvo:\n",
    "\n",
    "        informacao_extraida = elemento_alvo[0].text_content().strip()\n",
    "        \n",
    "        print(informacao_extraida)\n",
    "    else:\n",
    "        print(\"Elemento não encontrado.\")\n",
    "else:\n",
    "    print(\"Falha ao acessar a página:\", response.status_code)\n"
   ]
  },
  {
   "cell_type": "code",
   "execution_count": 24,
   "metadata": {},
   "outputs": [],
   "source": [
    "url = 'https://www.youtube.com/watch?v=Pym7QGH4PiA&ab_channel=Fiasco'"
   ]
  },
  {
   "cell_type": "code",
   "execution_count": 25,
   "metadata": {},
   "outputs": [
    {
     "name": "stdout",
     "output_type": "stream",
     "text": [
      "Elementos não encontrados.\n"
     ]
    }
   ],
   "source": [
    "response = requests.get(url)\n",
    "\n",
    "\n",
    "if response.status_code == 200:\n",
    "\n",
    "    tree = html.fromstring(response.text)\n",
    "    \n",
    "    duracao_xpath = '//span[@class=\"ytp-time-duration\"]/text()'\n",
    "    duracao_element = tree.xpath(duracao_xpath)\n",
    "    visualizacoes_xpath = '//div[@class=\"watch-view-count\"]/text()'\n",
    "    visualizacoes_element = tree.xpath(visualizacoes_xpath)\n",
    "    \n",
    "    if duracao_element and visualizacoes_element:\n",
    "        duracao = duracao_element[0].strip()\n",
    "        visualizacoes = visualizacoes_element[0].strip()\n",
    "        \n",
    "        print(f'Duração do vídeo: {duracao}')\n",
    "        print(f'Número de visualizações: {visualizacoes}')\n",
    "    else:\n",
    "        print(\"Elementos não encontrados.\")\n",
    "else:\n",
    "    print(\"Falha ao acessar a página:\", response.status_code)\n"
   ]
  },
  {
   "cell_type": "code",
   "execution_count": 26,
   "metadata": {},
   "outputs": [
    {
     "name": "stdout",
     "output_type": "stream",
     "text": [
      "Elementos não encontrados.\n"
     ]
    }
   ],
   "source": [
    "response = requests.get(url)\n",
    "if response.status_code == 200:\n",
    "\n",
    "    soup = BeautifulSoup(response.text, 'html.parser')\n",
    "    duracao_element = soup.find('span', {'class': 'ytp-time-duration'})\n",
    "    visualizacoes_element = soup.find('div', {'class': 'watch-view-count'})\n",
    "    \n",
    "\n",
    "    if duracao_element and visualizacoes_element:\n",
    "        duracao = duracao_element.text.strip()\n",
    "        visualizacoes = visualizacoes_element.text.strip()\n",
    "        \n",
    "        print(f'Duração do vídeo: {duracao}')\n",
    "        print(f'Número de visualizações: {visualizacoes}')\n",
    "    else:\n",
    "        print(\"Elementos não encontrados.\")\n",
    "else:\n",
    "    print(\"Falha ao acessar a página:\", response.status_code)\n"
   ]
  },
  {
   "cell_type": "code",
   "execution_count": 27,
   "metadata": {},
   "outputs": [],
   "source": [
    "duracao_element = soup.find('span', {'class': 'ytp-time-duration'})"
   ]
  },
  {
   "cell_type": "code",
   "execution_count": 28,
   "metadata": {},
   "outputs": [
    {
     "name": "stdout",
     "output_type": "stream",
     "text": [
      "None\n"
     ]
    }
   ],
   "source": [
    "print(duracao_element)"
   ]
  },
  {
   "cell_type": "code",
   "execution_count": 29,
   "metadata": {},
   "outputs": [
    {
     "name": "stdout",
     "output_type": "stream",
     "text": [
      "Collecting pytube\n",
      "  Using cached pytube-15.0.0-py3-none-any.whl (57 kB)\n",
      "Installing collected packages: pytube\n",
      "Successfully installed pytube-15.0.0\n"
     ]
    }
   ],
   "source": [
    "!pip install pytube"
   ]
  },
  {
   "cell_type": "code",
   "execution_count": 30,
   "metadata": {},
   "outputs": [
    {
     "name": "stdout",
     "output_type": "stream",
     "text": [
      "Duração do vídeo: 11 minutos e 53 segundos\n",
      "Número de visualizações: 114466\n"
     ]
    }
   ],
   "source": [
    "from pytube import YouTube\n",
    "\n",
    "try:\n",
    "\n",
    "    yt = YouTube(url)  \n",
    "    duracao_segundos = yt.length  \n",
    "    visualizacoes = yt.views   \n",
    "    minutos = duracao_segundos // 60\n",
    "    segundos = duracao_segundos % 60\n",
    "    \n",
    "\n",
    "    print(f'Duração do vídeo: {minutos} minutos e {segundos} segundos')\n",
    "    print(f'Número de visualizações: {visualizacoes}')\n",
    "    \n",
    "except Exception as e:\n",
    "    print(f\"Ocorreu um erro: {str(e)}\")\n"
   ]
  },
  {
   "cell_type": "code",
   "execution_count": 32,
   "metadata": {},
   "outputs": [
    {
     "name": "stdout",
     "output_type": "stream",
     "text": [
      "Ocorreu um erro: 'YouTube' object has no attribute 'likes'\n"
     ]
    }
   ],
   "source": [
    "try:\n",
    "    yt = YouTube(url)\n",
    "    \n",
    "    titulo = yt.title\n",
    "    descricao = yt.description\n",
    "    autor = yt.author\n",
    "    duracao_segundos = yt.length\n",
    "    minutos = duracao_segundos // 60\n",
    "    segundos = duracao_segundos % 60\n",
    "    visualizacoes = yt.views\n",
    "    likes = yt.likes\n",
    "    dislikes = yt.dislikes\n",
    "    \n",
    "    print(f'Título: {titulo}')\n",
    "    print(f'Descrição: {descricao}')\n",
    "    print(f'Autor: {autor}')\n",
    "    print(f'Duração: {minutos} minutos e {segundos} segundos')\n",
    "    print(f'Número de visualizações: {visualizacoes}')\n",
    "    print(f'Número de curtidas: {likes}')\n",
    "    print(f'Número de descurtidas: {dislikes}')\n",
    "    \n",
    "except Exception as e:\n",
    "    print(f\"Ocorreu um erro: {str(e)}\")\n"
   ]
  },
  {
   "cell_type": "code",
   "execution_count": 33,
   "metadata": {},
   "outputs": [
    {
     "name": "stdout",
     "output_type": "stream",
     "text": [
      "Título: 100 mil Inscritos em 30 dias no YouTube - Algoritmo do YouTube Explicado\n",
      "Descrição: None\n",
      "Autor: Fiasco\n",
      "Duração: 11 minutos e 53 segundos\n",
      "Número de visualizações: 114466\n",
      "Número de curtidas: Não disponível\n",
      "Número de descurtidas: Não disponível\n"
     ]
    }
   ],
   "source": [
    "try:\n",
    "    yt = YouTube(url)\n",
    "\n",
    "\n",
    "    titulo = yt.title\n",
    "    descricao = yt.description\n",
    "    autor = yt.author\n",
    "    duracao_segundos = yt.length\n",
    "    minutos = duracao_segundos // 60\n",
    "    segundos = duracao_segundos % 60\n",
    "    visualizacoes = yt.views\n",
    "\n",
    "    response = requests.get(url)\n",
    "    if response.status_code == 200:\n",
    "        soup = BeautifulSoup(response.text, 'html.parser')\n",
    "        likes_element = soup.find('button', {'title': 'Gostei'})\n",
    "        dislikes_element = soup.find('button', {'title': 'Não gostei'})\n",
    "        \n",
    "        if likes_element and dislikes_element:\n",
    "            likes = likes_element.find('span', {'class': 'yt-uix-button-content'}).text\n",
    "            dislikes = dislikes_element.find('span', {'class': 'yt-uix-button-content'}).text\n",
    "        else:\n",
    "            likes = 'Não disponível'\n",
    "            dislikes = 'Não disponível'\n",
    "        \n",
    "        print(f'Título: {titulo}')\n",
    "        print(f'Descrição: {descricao}')\n",
    "        print(f'Autor: {autor}')\n",
    "        print(f'Duração: {minutos} minutos e {segundos} segundos')\n",
    "        print(f'Número de visualizações: {visualizacoes}')\n",
    "        print(f'Número de curtidas: {likes}')\n",
    "        print(f'Número de descurtidas: {dislikes}')\n",
    "    else:\n",
    "        print(\"Falha ao acessar a página:\", response.status_code)\n",
    "\n",
    "except Exception as e:\n",
    "    print(f\"Ocorreu um erro: {str(e)}\")\n"
   ]
  },
  {
   "cell_type": "code",
   "execution_count": 34,
   "metadata": {},
   "outputs": [
    {
     "name": "stdout",
     "output_type": "stream",
     "text": [
      "Data de publicação: 2023-07-28 00:00:00\n"
     ]
    }
   ],
   "source": [
    "try:\n",
    "    yt = YouTube(url)\n",
    "    data_publicacao = yt.publish_date\n",
    "    \n",
    "    if data_publicacao:\n",
    "        print(f'Data de publicação: {data_publicacao}')\n",
    "    else:\n",
    "        print(\"Data de publicação não disponível.\")\n",
    "    \n",
    "except Exception as e:\n",
    "    print(f\"Ocorreu um erro: {str(e)}\")\n"
   ]
  },
  {
   "cell_type": "code",
   "execution_count": 35,
   "metadata": {},
   "outputs": [
    {
     "name": "stdout",
     "output_type": "stream",
     "text": [
      "Ocorreu um erro: unsupported operand type(s) for -: 'datetime.date' and 'datetime.datetime'\n"
     ]
    }
   ],
   "source": [
    "from datetime import datetime\n",
    "\n",
    "try:\n",
    "    yt = YouTube(url)\n",
    "    data_publicacao = yt.publish_date\n",
    "    \n",
    "    if data_publicacao:\n",
    "        data_atual = datetime.now().date()\n",
    "        dias_passados = (data_atual - data_publicacao).days\n",
    "        \n",
    "        print(f'Data de publicação: {data_publicacao}')\n",
    "        print(f'O vídeo tem {dias_passados} dias desde a publicação.')\n",
    "    else:\n",
    "        print(\"Data de publicação não disponível.\")\n",
    "    \n",
    "except Exception as e:\n",
    "    print(f\"Ocorreu um erro: {str(e)}\")\n"
   ]
  },
  {
   "cell_type": "code",
   "execution_count": 36,
   "metadata": {},
   "outputs": [],
   "source": [
    "data_publicacao = yt.publish_date"
   ]
  },
  {
   "cell_type": "code",
   "execution_count": 38,
   "metadata": {},
   "outputs": [],
   "source": [
    "data_atual = datetime.now()\n",
    "dias_passados = (data_atual - data_publicacao).days"
   ]
  },
  {
   "cell_type": "code",
   "execution_count": 39,
   "metadata": {},
   "outputs": [
    {
     "name": "stdout",
     "output_type": "stream",
     "text": [
      "Data de publicação: 2023-07-28 00:00:00\n",
      "O vídeo tem 41 dias desde a publicação.\n"
     ]
    }
   ],
   "source": [
    "print(f'Data de publicação: {data_publicacao}')\n",
    "print(f'O vídeo tem {dias_passados} dias desde a publicação.')"
   ]
  },
  {
   "cell_type": "code",
   "execution_count": 40,
   "metadata": {},
   "outputs": [
    {
     "name": "stdout",
     "output_type": "stream",
     "text": [
      "Codec de Vídeo: avc1.64001F\n",
      "Codec de Áudio: mp4a.40.2\n",
      "Resolução: 720p\n",
      "Formato: video/mp4\n"
     ]
    }
   ],
   "source": [
    "try:\n",
    "    yt = YouTube(url) \n",
    "    codec_video = yt.streams.filter(file_extension='mp4', res='720p').first().video_codec\n",
    "    codec_audio = yt.streams.filter(file_extension='mp4', res='720p').first().audio_codec\n",
    "    resolucao = yt.streams.filter(file_extension='mp4', res='720p').first().resolution\n",
    "    formato = yt.streams.filter(file_extension='mp4', res='720p').first().mime_type\n",
    "    \n",
    "    print(f'Codec de Vídeo: {codec_video}')\n",
    "    print(f'Codec de Áudio: {codec_audio}')\n",
    "    print(f'Resolução: {resolucao}')\n",
    "    print(f'Formato: {formato}')\n",
    "    \n",
    "except Exception as e:\n",
    "    print(f\"Ocorreu um erro: {str(e)}\")\n"
   ]
  },
  {
   "cell_type": "code",
   "execution_count": 42,
   "metadata": {},
   "outputs": [
    {
     "name": "stdout",
     "output_type": "stream",
     "text": [
      "Ocorreu um erro: channel_name: could not find match for patterns\n"
     ]
    }
   ],
   "source": [
    "from pytube import Channel\n",
    "\n",
    "url_canal = 'https://www.youtube.com/@GrandeFiasco/videos'\n",
    "\n",
    "try:\n",
    "\n",
    "    canal = Channel(url_canal)\n",
    "    videos = canal.video_urls\n",
    "    \n",
    "    for video_url in videos:\n",
    "        print(video_url)\n",
    "    \n",
    "except Exception as e:\n",
    "    print(f\"Ocorreu um erro: {str(e)}\")\n"
   ]
  },
  {
   "cell_type": "code",
   "execution_count": 43,
   "metadata": {},
   "outputs": [],
   "source": [
    "c = Channel('https://www.youtube.com/c/ProgrammingKnowledge/videos')"
   ]
  },
  {
   "cell_type": "code",
   "execution_count": null,
   "metadata": {},
   "outputs": [],
   "source": [
    "for url in c.video_urls[:3]:\n",
    "    print(url)"
   ]
  },
  {
   "cell_type": "code",
   "execution_count": 47,
   "metadata": {},
   "outputs": [
    {
     "name": "stdout",
     "output_type": "stream",
     "text": [
      "Help on property:\n",
      "\n",
      "    Complete links of all the videos in playlist\n",
      "    \n",
      "    :rtype: List[str]\n",
      "    :returns: List of video URLs\n",
      "\n"
     ]
    }
   ],
   "source": [
    "help(Channel.video_urls)"
   ]
  },
  {
   "cell_type": "code",
   "execution_count": 48,
   "metadata": {},
   "outputs": [
    {
     "name": "stdout",
     "output_type": "stream",
     "text": [
      "Ocorreu um erro: 'list'\n"
     ]
    }
   ],
   "source": [
    "from pytube import Playlist\n",
    "try:\n",
    "\n",
    "    playlist = Playlist(url_canal)\n",
    "    videos = playlist.video_urls\n",
    "    \n",
    "    for video_url in videos:\n",
    "        print(video_url)\n",
    "    \n",
    "except Exception as e:\n",
    "    print(f\"Ocorreu um erro: {str(e)}\")\n"
   ]
  },
  {
   "cell_type": "code",
   "execution_count": 49,
   "metadata": {},
   "outputs": [
    {
     "data": {
      "text/plain": [
       "[]"
      ]
     },
     "execution_count": 49,
     "metadata": {},
     "output_type": "execute_result"
    }
   ],
   "source": [
    "playlist"
   ]
  },
  {
   "cell_type": "code",
   "execution_count": 50,
   "metadata": {},
   "outputs": [],
   "source": [
    "try:\n",
    "    response = requests.get(url_canal)\n",
    "\n",
    "    if response.status_code == 200:\n",
    "\n",
    "        soup = BeautifulSoup(response.text, 'html.parser')\n",
    "        \n",
    "\n",
    "        video_links = []\n",
    "        for link in soup.find_all('a'):\n",
    "            href = link.get('href')\n",
    "            if href and '/watch' in href and '&index=' in href:\n",
    "                video_url = 'https://www.youtube.com' + href\n",
    "                video_links.append(video_url)\n",
    "        \n",
    "\n",
    "        for video_url in video_links:\n",
    "            print(video_url)\n",
    "    else:\n",
    "        print(\"Falha ao acessar a página do canal:\", response.status_code)\n",
    "\n",
    "except Exception as e:\n",
    "    print(f\"Ocorreu um erro: {str(e)}\")"
   ]
  },
  {
   "cell_type": "code",
   "execution_count": 51,
   "metadata": {},
   "outputs": [
    {
     "data": {
      "text/plain": [
       "[]"
      ]
     },
     "execution_count": 51,
     "metadata": {},
     "output_type": "execute_result"
    }
   ],
   "source": [
    "video_links"
   ]
  }
 ],
 "metadata": {
  "kernelspec": {
   "display_name": "Python 3",
   "language": "python",
   "name": "python3"
  },
  "language_info": {
   "codemirror_mode": {
    "name": "ipython",
    "version": 3
   },
   "file_extension": ".py",
   "mimetype": "text/x-python",
   "name": "python",
   "nbconvert_exporter": "python",
   "pygments_lexer": "ipython3",
   "version": "3.10.5"
  },
  "orig_nbformat": 4
 },
 "nbformat": 4,
 "nbformat_minor": 2
}
